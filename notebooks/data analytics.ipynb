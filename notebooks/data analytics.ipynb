{
 "cells": [
  {
   "cell_type": "markdown",
   "metadata": {},
   "source": [
    "# Product Data Analytics\n",
    "\n",
    "This notebook performs an exploratory data analysis (EDA) on the `intern_data_ikarus.csv` dataset. The goal is to understand the distribution of the data, identify key characteristics, and extract insights that could be useful for the recommendation model and for the analytics dashboard."
   ]
  },
  {
   "cell_type": "markdown",
   "metadata": {},
   "source": [
    "### 1. Load Libraries and Data"
   ]
  },
  {
   "cell_type": "code",
   "execution_count": null,
   "metadata": {},
   "outputs": [],
   "source": [
    "import pandas as pd\n",
    "import matplotlib.pyplot as plt\n",
    "import seaborn as sns\n",
    "import ast # For safely evaluating string-formatted lists\n",
    "\n",
    "// Set visualization style\n",
    "sns.set_style(\"whitegrid\")\n",
    "\n",
    "// Load the dataset\n",
    "file_path = '../backend/data/intern_data_ikarus.csv'\n",
    "df = pd.read_csv(file_path)"
   ]
  },
  {
   "cell_type": "markdown",
   "metadata": {},
   "source": [
    "### 2. Initial Data Exploration"
   ]
  },
  {
   "cell_type": "code",
   "execution_count": null,
   "metadata": {},
   "outputs": [],
   "source": [
    "print(\"Dataset Shape:\")\n",
    "print(df.shape)\n",
    "print(\"\\nFirst 5 Rows:\")\n",
    "print(df.head())\n",
    "print(\"\\nData Types and Missing Values:\")\n",
    "print(df.info())"
   ]
  },
  {
   "cell_type": "markdown",
   "metadata": {},
   "source": [
    "### 3. Price Analysis\n",
    "\n",
    "The `price` column is an object type and contains '$'. We need to clean it by removing the dollar sign and converting it to a numeric type to perform analysis."
   ]
  },
  {
   "cell_type": "code",
   "execution_count": null,
   "metadata": {},
   "outputs": [],
   "source": [
    "# Clean the price column\n",
    "df['price_numeric'] = df['price'].replace('[\\$,]', '', regex=True).astype(float)\n",
    "\n",
    "# Plot the distribution of prices\n",
    "plt.figure(figsize=(12, 6))\n",
    "sns.histplot(df['price_numeric'], bins=50, kde=True)\n",
    "plt.title('Distribution of Product Prices', fontsize=16)\n",
    "plt.xlabel('Price ($)', fontsize=12)\n",
    "plt.ylabel('Number of Products', fontsize=12)\n",
    "plt.show()\n",
    "\n",
    "# Display summary statistics for price\n",
    "print(\"Price Statistics:\")\n",
    "print(df['price_numeric'].describe())"
   ]
  },
  {
   "cell_type": "markdown",
   "metadata": {},
   "source": [
    "### 4. Category Analysis\n",
    "\n",
    "The `categories` column is a string representation of a list. We will parse this column and then count the occurrences of each category to find the most common ones."
   ]
  },
  {
   "cell_type": "code",
   "execution_count": null,
   "metadata": {},
   "outputs": [],
   "source": [
    "# Safely parse the 'categories' column from string to list\n",
    "df['categories_list'] = df['categories'].apply(ast.literal_eval)\n",
    "\n",
    "# Explode the dataframe to have one category per row and count them\n",
    "all_categories = df.explode('categories_list')['categories_list']\n",
    "category_counts = all_categories.value_counts()\n",
    "\n",
    "# Get the top 10 most common categories\n",
    "top_10_categories = category_counts.head(10)\n",
    "\n",
    "# Plot the top 10 categories\n",
    "plt.figure(figsize=(12, 8))\n",
    "sns.barplot(x=top_10_categories.values, y=top_10_categories.index, palette='viridis')\n",
    "plt.title('Top 10 Most Common Product Categories', fontsize=16)\n",
    "plt.xlabel('Number of Products', fontsize=12)\n",
    "plt.ylabel('Category', fontsize=12)\n",
    "plt.show()\n",
    "\n",
    "print(\"Top 10 Categories:\")\n",
    "print(top_10_categories)"
   ]
  },
  {
   "cell_type": "markdown",
   "metadata": {},
   "source": [
    "### 5. Material Analysis"
   ]
  },
  {
   "cell_type": "code",
   "execution_count": null,
   "metadata": {},
   "outputs": [],
   "source": [
    "# Analyze the 'material' column\n",
    "# We'll check for missing values and count the top materials\n",
    "material_counts = df['material'].value_counts().dropna()\n",
    "\n",
    "top_10_materials = material_counts.head(10)\n",
    "\n",
    "# Plot the top 10 materials\n",
    "plt.figure(figsize=(12, 8))\n",
    "sns.barplot(x=top_10_materials.values, y=top_10_materials.index, palette='mako')\n",
    "plt.title('Top 10 Most Common Product Materials', fontsize=16)\n",
    "plt.xlabel('Number of Products', fontsize=12)\n",
    "plt.ylabel('Material', fontsize=12)\n",
    "plt.show()\n",
    "\n",
    "print(\"Top 10 Materials:\")\n",
    "print(top_10_materials)"
   ]
  }
 ],
 "metadata": {
  "kernelspec": {
   "display_name": "Python 3",
   "language": "python",
   "name": "python3"
  },
  "language_info": {
   "name": "python",
   "version": "3.9.1"
  }
 },
 "nbformat": 4,
 "nbformat_minor": 2
}

