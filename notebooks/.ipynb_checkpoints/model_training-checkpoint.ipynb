{
 "cells": [
  {
   "cell_type": "markdown",
   "metadata": {},
   "source": [
    "# Model Training & Data Ingestion for RAG System\n",
    "\n",
    "This notebook prepares the product data and ingests it into the Weaviate vector database. This is the core 'data modeling' step for our Retrieval-Augmented Generation (RAG) system. \n",
    "\n",
    "**Workflow:**\n",
    "1.  **Load Data:** Read the `intern_data_ikarus.csv` file.\n",
    "2.  **Preprocess Data:** Clean and prepare the text and image data.\n",
    "3.  **Generate Embeddings:** Create vector representations (embeddings) for each product using:\n",
    "    * **Text Embeddings:** Using a `sentence-transformers` model.\n",
    "    * **Image Embeddings:** Using a pre-trained `ResNet-50` model to get embeddings from the first image of each product.\n",
    "4.  **Connect to Weaviate:** Establish a connection with the local Weaviate instance.\n",
    "5.  **Define Schema:** Create a 'Product' collection schema in Weaviate.\n",
    "6.  **Ingest Data:** Batch-upload the product data along with its generated vector embedding into Weaviate."
   ]
  },
  {
   "cell_type": "markdown",
   "metadata": {},
   "source": [
    "### 1. Load Libraries and Data"
   ]
  },
  {
   "cell_type": "code",
   "execution_count": null,
   "metadata": {},
   "outputs": [],
   "source": [
    "import pandas as pd\n",
    "import weaviate\n",
    "import ast\n",
    "import requests\n",
    "from PIL import Image\n",
    "from io import BytesIO\n",
    "import torch\n",
    "from torchvision import transforms\n",
    "from torchvision.models import resnet50\n",
    "from sentence_transformers import SentenceTransformer\n",
    "import numpy as np\n",
    "from tqdm import tqdm"
   ]
  },
  {
   "cell_type": "code",
   "execution_count": null,
   "metadata": {},
   "outputs": [],
   "source": [
    "# Load the dataset\n",
    "file_path = '../backend/data/intern_data_ikarus.csv'\n",
    "df = pd.read_csv(file_path).dropna(subset=['title', 'images'])\n",
    "df = df.head(500) # For faster processing during development, limit to 500 records"
   ]
  },
  {
   "cell_type": "markdown",
   "metadata": {},
   "source": [
    "### 2. Initialize Models for Embedding Generation"
   ]
  },
  {
   "cell_type": "code",
   "execution_count": null,
   "metadata": {},
   "outputs": [],
   "source": [
    "# Set device\n",
    "device = 'cuda' if torch.cuda.is_available() else 'cpu'\n",
    "\n",
    "# --- Text Embedding Model ---\n",
    "text_embedder = SentenceTransformer('all-MiniLM-L6-v2', device=device)\n",
    "\n",
    "# --- Image Embedding Model (ResNet50) ---\n",
    "image_model = resnet50(pretrained=True)\n",
    "image_model = torch.nn.Sequential(*(list(image_model.children())[:-1])) # Remove the final classification layer\n",
    "image_model.eval()\n",
    "image_model.to(device)\n",
    "\n",
    "# Define image transformations\n",
    "preprocess = transforms.Compose([\n",
    "    transforms.Resize(256),\n",
    "    transforms.CenterCrop(224),\n",
    "    transforms.ToTensor(),\n",
    "    transforms.Normalize(mean=[0.485, 0.456, 0.406], std=[0.229, 0.224, 0.225]),\n",
    "])"
   ]
  },
  {
   "cell_type": "markdown",
   "metadata": {},
   "source": [
    "### 3. Define Embedding Helper Functions"
   ]
  },
  {
   "cell_type": "code",
   "execution_count": null,
   "metadata": {},
   "outputs": [],
   "source": [
    "def get_image_embedding(image_url):\n",
    "    try:\n",
    "        response = requests.get(image_url.strip(), timeout=10)\n",
    "        img = Image.open(BytesIO(response.content)).convert('RGB')\n",
    "        img_t = preprocess(img)\n",
    "        batch_t = torch.unsqueeze(img_t, 0).to(device)\n",
    "        with torch.no_grad():\n",
    "            embedding = image_model(batch_t)\n",
    "        return embedding.squeeze().cpu().numpy()\n",
    "    except Exception as e:\n",
    "        # print(f\"Error processing image {image_url}: {e}\")\n",
    "        return np.zeros(2048) # Return a zero vector on error\n",
    "\n",
    "def get_text_embedding(text):\n",
    "    return text_embedder.encode(text)"
   ]
  },
  {
   "cell_type": "markdown",
   "metadata": {},
   "source": [
    "### 4. Connect to Weaviate and Define Schema"
   ]
  },
  {
   "cell_type": "code",
   "execution_count": null,
   "metadata": {},
   "outputs": [],
   "source": [
    "# Connect to Weaviate client\n",
    "client = weaviate.Client(\"http://localhost:8080\")\n",
    "\n",
    "# Define the class schema\n",
    "class_name = \"Product\"\n",
    "class_obj = {\n",
    "    \"class\": class_name,\n",
    "    \"vectorizer\": \"none\",  # We are providing our own vectors\n",
    "    \"properties\": [\n",
    "        {\"name\": \"title\", \"dataType\": [\"text\"]},\n",
    "        {\"name\": \"brand\", \"dataType\": [\"text\"]},\n",
    "        {\"name\": \"description\", \"dataType\": [\"text\"]},\n",
    "        {\"name\": \"price\", \"dataType\": [\"text\"]},\n",
    "        {\"name\": \"material\", \"dataType\": [\"text\"]},\n",
    "        {\"name\": \"image_url\", \"dataType\": [\"text\"]}\n",
    "    ]\n",
    "}\n",
    "\n",
    "# Clean up previous schema if it exists\n",
    "if client.schema.exists(class_name):\n",
    "    client.schema.delete_class(class_name)\n",
    "\n",
    "# Create the new schema\n",
    "client.schema.create_class(class_obj)\n",
    "print(\"Schema created successfully.\")"
   ]
  },
  {
   "cell_type": "markdown",
   "metadata": {},
   "source": [
    "### 5. Generate Embeddings and Ingest Data into Weaviate\n",
    "\n",
    "This is the main processing loop. We iterate through each product, generate a combined text and image embedding, and then upload it to Weaviate in batches."
   ]
  },
  {
   "cell_type": "code",
   "execution_count": null,
   "metadata": {},
   "outputs": [],
   "source": [
    "# Configure batching\n",
    "client.batch.configure(batch_size=100)\n",
    "\n",
    "with client.batch as batch:\n",
    "    for index, row in tqdm(df.iterrows(), total=df.shape[0]):\n",
    "        # ---- Create the text for embedding ----\n",
    "        text_to_embed = f\"Title: {row['title']}. Description: {row.get('description', '')}. Brand: {row.get('brand', '')}.\"\n",
    "        \n",
    "        # ---- Get text embedding ----\n",
    "        text_vector = get_text_embedding(text_to_embed)\n",
    "        \n",
    "        # ---- Get image embedding ----\n",
    "        image_urls = ast.literal_eval(row['images'])\n",
    "        first_image_url = image_urls[0] if image_urls else None\n",
    "        image_vector = get_image_embedding(first_image_url) if first_image_url else np.zeros(2048)\n",
    "        \n",
    "        # ---- Combine embeddings (simple concatenation) ----\n",
    "        combined_vector = np.concatenate([text_vector, image_vector])\n",
    "\n",
    "        # ---- Prepare data object for Weaviate ----\n",
    "        properties = {\n",
    "            \"title\": row['title'],\n",
    "            \"brand\": str(row.get('brand', 'N/A')),\n",
    "            \"description\": str(row.get('description', 'No description available.')),\n",
    "            \"price\": str(row.get('price', '$0.00')),\n",
    "            \"material\": str(row.get('material', 'N/A')),\n",
    "            \"image_url\": str(first_image_url)\n",
    "        }\n",
    "        \n",
    "        # Add object to batch\n",
    "        batch.add_data_object(\n",
    "            data_object=properties,\n",
    "            class_name=class_name,\n",
    "            vector=combined_vector.tolist() # Add the combined vector\n",
    "        )\n",
    "\n",
    "print(\"Data ingestion complete!\")"
   ]
  }
 ],
 "metadata": {
  "kernelspec": {
   "display_name": "Python 3",
   "language": "python",
   "name": "python3"
  },
  "language_info": {
   "name": "python",
   "version": "3.9.1"
  }
 },
 "nbformat": 4,
 "nbformat_minor": 2
}

